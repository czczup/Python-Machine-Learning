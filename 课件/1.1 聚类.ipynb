{
 "cells": [
  {
   "cell_type": "code",
   "execution_count": 4,
   "metadata": {
    "collapsed": false
   },
   "outputs": [
    {
     "name": "stdout",
     "output_type": "stream",
     "text": [
      "[[2959.19, 730.79, 749.41, 513.34, 467.87, 1141.82, 478.42, 457.64], [2459.77, 495.47, 697.33, 302.87, 284.19, 735.97, 570.84, 305.08], [1495.63, 515.9, 362.37, 285.32, 272.95, 540.58, 364.91, 188.63], [1406.33, 477.77, 290.15, 208.57, 201.5, 414.72, 281.84, 212.1], [1303.97, 524.29, 254.83, 192.17, 249.81, 463.09, 287.87, 192.96], [1730.84, 553.9, 246.91, 279.81, 239.18, 445.2, 330.24, 163.86], [1561.86, 492.42, 200.49, 218.36, 220.69, 459.62, 360.48, 147.76], [1410.11, 510.71, 211.88, 277.11, 224.65, 376.82, 317.61, 152.85], [3712.31, 550.74, 893.37, 346.93, 527.0, 1034.98, 720.33, 462.03], [2207.58, 449.37, 572.4, 211.92, 302.09, 585.23, 429.77, 252.54], [2629.16, 557.32, 689.73, 435.69, 514.66, 795.87, 575.76, 323.36], [1844.78, 430.29, 271.28, 126.33, 250.56, 513.18, 314.0, 151.39], [2709.46, 428.11, 334.12, 160.77, 405.14, 461.67, 535.13, 232.29], [1563.78, 303.65, 233.81, 107.9, 209.7, 393.99, 509.39, 160.12], [1675.75, 613.32, 550.71, 219.79, 272.59, 599.43, 371.62, 211.84], [1427.65, 431.79, 288.55, 208.14, 217.0, 337.76, 421.31, 165.32], [1942.23, 512.27, 401.39, 206.06, 321.29, 697.22, 492.6, 226.45], [1783.43, 511.88, 282.84, 201.01, 237.6, 617.74, 523.52, 182.52], [3055.17, 353.23, 564.56, 356.27, 811.88, 873.06, 1082.82, 420.81], [2033.87, 300.82, 338.65, 157.78, 329.06, 621.74, 587.02, 218.27], [2057.86, 186.44, 202.72, 171.79, 329.65, 477.17, 312.93, 279.19], [2303.29, 589.99, 516.21, 236.55, 403.92, 730.05, 438.41, 225.8], [1974.28, 507.76, 344.79, 203.21, 240.24, 575.1, 430.36, 223.46], [1673.82, 437.75, 461.61, 153.32, 254.66, 445.59, 346.11, 191.48], [2194.25, 537.01, 369.07, 249.54, 290.84, 561.91, 407.7, 330.95], [2646.61, 839.7, 204.44, 209.11, 379.3, 371.04, 269.59, 389.33], [1472.95, 390.89, 447.95, 259.51, 230.61, 490.9, 469.1, 191.34], [1525.57, 472.98, 328.9, 219.86, 206.65, 449.69, 249.66, 228.19], [1654.69, 437.77, 258.78, 303.0, 244.93, 479.53, 288.56, 236.51], [1375.46, 480.89, 273.84, 317.32, 251.08, 424.75, 228.73, 195.93], [1608.82, 536.05, 432.46, 235.82, 250.28, 541.3, 344.85, 214.4]]\n",
      "Expenses:3788.76\n",
      "['河北', '山西', '内蒙古', '辽宁', '吉林', '黑龙江', '江西', '山东', '河南', '贵州', '陕西', '甘肃', '青海', '宁夏', '新疆']\n",
      "Expenses:5287.90\n",
      "['福建', '西藏']\n",
      "Expenses:6328.94\n",
      "['北京', '天津', '浙江', '重庆']\n",
      "Expenses:4512.27\n",
      "['江苏', '安徽', '湖南', '湖北', '广西', '海南', '四川', '云南']\n",
      "Expenses:7882.74\n",
      "['上海', '广东']\n"
     ]
    }
   ],
   "source": [
    "from sklearn.cluster import KMeans\n",
    "import numpy as np\n",
    "def loadData(filePath):\n",
    "    fr = open(filePath,'r+')\n",
    "    lines = fr.readlines()\n",
    "    retData = []     #存储城市的各项消费信息\n",
    "    retCityName = [] #存储城市名称\n",
    "    for line in lines:\n",
    "        items = line.strip().split(',')\n",
    "        retCityName.append(items[0])\n",
    "        retData.append([float(item) for item in items[1:]])\n",
    "    for i in range(1,len(items)):\n",
    "        return retData,retCityName\n",
    "if __name__ == '__main__':\n",
    "    data,cityName = loadData('31省市居民家庭消费水平-city.txt')\n",
    "    km = KMeans(n_clusters=5)\n",
    "    print(data)\n",
    "    label = km.fit_predict(data)\n",
    "    expenses = np.sum(km.cluster_centers_,axis=1)\n",
    "    #print(expenses)\n",
    "    CityCluster = [[],[],[],[],[]]\n",
    "    for i in range(len(cityName)):\n",
    "        CityCluster[label[i]].append(cityName[i])\n",
    "    for i in range(len(CityCluster)):\n",
    "        print(\"Expenses:%.2f\"%expenses[i])\n",
    "        print(CityCluster[i])"
   ]
  },
  {
   "cell_type": "code",
   "execution_count": 32,
   "metadata": {
    "collapsed": false
   },
   "outputs": [
    {
     "name": "stdout",
     "output_type": "stream",
     "text": [
      "Labels:\n",
      "[ 0 -1  0  1 -1  1  0  1  2 -1  1  0  1  1  3 -1 -1  3 -1  1  1 -1  1  3  4\n",
      " -1  1  1  2  0  2  2 -1  0  1  0  0  0  1  3 -1  0  1  1  0  0  2 -1  1  3\n",
      "  1 -1  3 -1  3  0  1  1  2  3  3 -1 -1 -1  0  1  2  1 -1  3  1  1  2  3  0\n",
      "  1 -1  2  0  0  3  2  0  1 -1  1  3 -1  4  2 -1 -1  0 -1  3 -1  0  2  1 -1\n",
      " -1  2  1  1  2  0  2  1  1  3  3  0  1  2  0  1  0 -1  1  1  3 -1  2  1  3\n",
      "  1  1  1  2 -1  5 -1  1  3 -1  0  1  0  0  1 -1 -1 -1  2  2  0  1  1  3  0\n",
      "  0  0  1  4  4 -1 -1 -1 -1  4 -1  4  4 -1  4 -1  1  2  2  3  0  1  0 -1  1\n",
      "  0  0  1 -1 -1  0  2  1  0  2 -1  1  1 -1 -1  0  1  1 -1  3  1  1 -1  1  1\n",
      "  0  0 -1  0 -1  0  0  2 -1  1 -1  1  0 -1  2  1  3  1  1 -1  1  0  0 -1  0\n",
      "  0  3  2  0  0  5 -1  3  2 -1  5  4  4  4 -1  5  5 -1  4  0  4  4  4  5  4\n",
      "  4  5  5  0  5  4 -1  4  5  5  5  1  5  5  0  5  4  4 -1  4  4  5  4  0  5\n",
      "  4 -1  0  5  5  5 -1  4  5  5  5  5  4  4]\n",
      "Noise raito: 22.15%\n",
      "Estimated number of clusters: 6\n",
      "Silhouette Coefficient: 0.710\n",
      "Cluster  0 :\n",
      "[22, 22, 22, 22, 22, 22, 22, 22, 22, 22, 22, 22, 22, 22, 22, 22, 22, 22, 22, 22, 22, 22, 22, 22, 22, 22, 22, 22, 22, 22, 22, 22, 22, 22, 22, 22, 22, 22, 22, 22, 22, 22, 22, 22, 22, 22, 22, 22, 22, 22, 22, 22, 22, 22, 22]\n",
      "Cluster  1 :\n",
      "[23, 23, 23, 23, 23, 23, 23, 23, 23, 23, 23, 23, 23, 23, 23, 23, 23, 23, 23, 23, 23, 23, 23, 23, 23, 23, 23, 23, 23, 23, 23, 23, 23, 23, 23, 23, 23, 23, 23, 23, 23, 23, 23, 23, 23, 23, 23, 23, 23, 23, 23, 23, 23, 23, 23, 23, 23, 23, 23, 23, 23, 23, 23, 23, 23]\n",
      "Cluster  2 :\n",
      "[20, 20, 20, 20, 20, 20, 20, 20, 20, 20, 20, 20, 20, 20, 20, 20, 20, 20, 20, 20, 20, 20, 20, 20, 20, 20, 20, 20]\n",
      "Cluster  3 :\n",
      "[21, 21, 21, 21, 21, 21, 21, 21, 21, 21, 21, 21, 21, 21, 21, 21, 21, 21, 21, 21, 21, 21, 21, 21, 21]\n",
      "Cluster  4 :\n",
      "[8, 8, 8, 8, 8, 8, 8, 8, 8, 8, 8, 8, 8, 8, 8, 8, 8, 8, 8, 8, 8, 8, 8, 8, 8, 8, 8, 8]\n",
      "Cluster  5 :\n",
      "[7, 7, 7, 7, 7, 7, 7, 7, 7, 7, 7, 7, 7, 7, 7, 7, 7, 7, 7, 7, 7, 7, 7, 7]\n"
     ]
    },
    {
     "data": {
      "image/png": "[encoded data removed]",
      "text/plain": [
       "<matplotlib.figure.Figure at 0x190aff10a20>"
      ]
     },
     "metadata": {},
     "output_type": "display_data"
    }
   ],
   "source": [
    "-"
   ]
  },
  {
   "cell_type": "code",
   "execution_count": null,
   "metadata": {
    "collapsed": true
   },
   "outputs": [],
   "source": []
  }
 ],
 "metadata": {
  "kernelspec": {
   "display_name": "Python 3",
   "language": "python",
   "name": "python3"
  },
  "language_info": {
   "codemirror_mode": {
    "name": "ipython",
    "version": 3
   },
   "file_extension": ".py",
   "mimetype": "text/x-python",
   "name": "python",
   "nbconvert_exporter": "python",
   "pygments_lexer": "ipython3",
   "version": "3.6.0"
  }
 },
 "nbformat": 4,
 "nbformat_minor": 2
}
